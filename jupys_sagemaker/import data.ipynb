{
 "cells": [
  {
   "cell_type": "code",
   "execution_count": 4,
   "id": "b15d700f-5fc1-4dd0-bae0-c907cfda5cd6",
   "metadata": {
    "execution": {
     "iopub.execute_input": "2025-07-18T07:57:33.462749Z",
     "iopub.status.busy": "2025-07-18T07:57:33.462381Z",
     "iopub.status.idle": "2025-07-18T07:57:36.814640Z",
     "shell.execute_reply": "2025-07-18T07:57:36.813746Z",
     "shell.execute_reply.started": "2025-07-18T07:57:33.462717Z"
    }
   },
   "outputs": [
    {
     "name": "stdout",
     "output_type": "stream",
     "text": [
      "Collecting psycopg2-binary\n",
      "  Downloading psycopg2_binary-2.9.10-cp312-cp312-manylinux_2_17_x86_64.manylinux2014_x86_64.whl.metadata (4.9 kB)\n",
      "Downloading psycopg2_binary-2.9.10-cp312-cp312-manylinux_2_17_x86_64.manylinux2014_x86_64.whl (3.0 MB)\n",
      "\u001b[2K   \u001b[90m━━━━━━━━━━━━━━━━━━━━━━━━━━━━━━━━━━━━━━━━\u001b[0m \u001b[32m3.0/3.0 MB\u001b[0m \u001b[31m96.2 MB/s\u001b[0m eta \u001b[36m0:00:00\u001b[0m\n",
      "\u001b[?25hInstalling collected packages: psycopg2-binary\n",
      "Successfully installed psycopg2-binary-2.9.10\n",
      "Note: you may need to restart the kernel to use updated packages.\n"
     ]
    }
   ],
   "source": [
    "pip install psycopg2-binary"
   ]
  },
  {
   "cell_type": "code",
   "execution_count": 1,
   "id": "182302ff-9e93-43f3-ae8d-93a20d0814c5",
   "metadata": {
    "execution": {
     "iopub.execute_input": "2025-07-18T08:10:26.580984Z",
     "iopub.status.busy": "2025-07-18T08:10:26.580050Z",
     "iopub.status.idle": "2025-07-18T08:10:28.266509Z",
     "shell.execute_reply": "2025-07-18T08:10:28.265532Z",
     "shell.execute_reply.started": "2025-07-18T08:10:26.580943Z"
    }
   },
   "outputs": [
    {
     "name": "stdout",
     "output_type": "stream",
     "text": [
      "connected\n",
      "   dummy_col\n",
      "0          1\n"
     ]
    },
    {
     "name": "stderr",
     "output_type": "stream",
     "text": [
      "/tmp/ipykernel_1231/3415074393.py:31: UserWarning: pandas only supports SQLAlchemy connectable (engine/connection) or database string URI or sqlite3 DBAPI2 connection. Other DBAPI2 objects are not tested. Please consider using SQLAlchemy.\n",
      "  df = pd.read_sql(query, conn)\n"
     ]
    },
    {
     "ename": "ClientError",
     "evalue": "An error occurred (AccessDenied) when calling the PutObject operation: User: arn:aws:sts::250260913801:assumed-role/AmazonSageMaker-ExecutionRole-20250718T130675/SageMaker is not authorized to perform: s3:PutObject on resource: \"arn:aws:s3:::sales-leaddd/redshift-exports/data.csv\" because no identity-based policy allows the s3:PutObject action",
     "output_type": "error",
     "traceback": [
      "\u001b[0;31m---------------------------------------------------------------------------\u001b[0m",
      "\u001b[0;31mClientError\u001b[0m                               Traceback (most recent call last)",
      "Cell \u001b[0;32mIn[1], line 42\u001b[0m\n\u001b[1;32m     40\u001b[0m \u001b[38;5;66;03m# 4. Upload CSV data to S3 bucket\u001b[39;00m\n\u001b[1;32m     41\u001b[0m s3_client \u001b[38;5;241m=\u001b[39m boto3\u001b[38;5;241m.\u001b[39mclient(\u001b[38;5;124m'\u001b[39m\u001b[38;5;124ms3\u001b[39m\u001b[38;5;124m'\u001b[39m, region_name\u001b[38;5;241m=\u001b[39mAWS_REGION)\n\u001b[0;32m---> 42\u001b[0m \u001b[43ms3_client\u001b[49m\u001b[38;5;241;43m.\u001b[39;49m\u001b[43mput_object\u001b[49m\u001b[43m(\u001b[49m\u001b[43mBucket\u001b[49m\u001b[38;5;241;43m=\u001b[39;49m\u001b[43mS3_BUCKET\u001b[49m\u001b[43m,\u001b[49m\u001b[43m \u001b[49m\u001b[43mKey\u001b[49m\u001b[38;5;241;43m=\u001b[39;49m\u001b[43mS3_KEY\u001b[49m\u001b[43m,\u001b[49m\u001b[43m \u001b[49m\u001b[43mBody\u001b[49m\u001b[38;5;241;43m=\u001b[39;49m\u001b[43mcsv_buffer\u001b[49m\u001b[38;5;241;43m.\u001b[39;49m\u001b[43mgetvalue\u001b[49m\u001b[43m(\u001b[49m\u001b[43m)\u001b[49m\u001b[43m)\u001b[49m\n\u001b[1;32m     44\u001b[0m \u001b[38;5;28mprint\u001b[39m(\u001b[38;5;124mf\u001b[39m\u001b[38;5;124m\"\u001b[39m\u001b[38;5;124mData uploaded to s3://\u001b[39m\u001b[38;5;132;01m{\u001b[39;00mS3_BUCKET\u001b[38;5;132;01m}\u001b[39;00m\u001b[38;5;124m/\u001b[39m\u001b[38;5;132;01m{\u001b[39;00mS3_KEY\u001b[38;5;132;01m}\u001b[39;00m\u001b[38;5;124m\"\u001b[39m)\n",
      "File \u001b[0;32m/opt/conda/lib/python3.12/site-packages/botocore/client.py:569\u001b[0m, in \u001b[0;36mClientCreator._create_api_method.<locals>._api_call\u001b[0;34m(self, *args, **kwargs)\u001b[0m\n\u001b[1;32m    565\u001b[0m     \u001b[38;5;28;01mraise\u001b[39;00m \u001b[38;5;167;01mTypeError\u001b[39;00m(\n\u001b[1;32m    566\u001b[0m         \u001b[38;5;124mf\u001b[39m\u001b[38;5;124m\"\u001b[39m\u001b[38;5;132;01m{\u001b[39;00mpy_operation_name\u001b[38;5;132;01m}\u001b[39;00m\u001b[38;5;124m() only accepts keyword arguments.\u001b[39m\u001b[38;5;124m\"\u001b[39m\n\u001b[1;32m    567\u001b[0m     )\n\u001b[1;32m    568\u001b[0m \u001b[38;5;66;03m# The \"self\" in this scope is referring to the BaseClient.\u001b[39;00m\n\u001b[0;32m--> 569\u001b[0m \u001b[38;5;28;01mreturn\u001b[39;00m \u001b[38;5;28;43mself\u001b[39;49m\u001b[38;5;241;43m.\u001b[39;49m\u001b[43m_make_api_call\u001b[49m\u001b[43m(\u001b[49m\u001b[43moperation_name\u001b[49m\u001b[43m,\u001b[49m\u001b[43m \u001b[49m\u001b[43mkwargs\u001b[49m\u001b[43m)\u001b[49m\n",
      "File \u001b[0;32m/opt/conda/lib/python3.12/site-packages/botocore/client.py:1023\u001b[0m, in \u001b[0;36mBaseClient._make_api_call\u001b[0;34m(self, operation_name, api_params)\u001b[0m\n\u001b[1;32m   1019\u001b[0m     error_code \u001b[38;5;241m=\u001b[39m error_info\u001b[38;5;241m.\u001b[39mget(\u001b[38;5;124m\"\u001b[39m\u001b[38;5;124mQueryErrorCode\u001b[39m\u001b[38;5;124m\"\u001b[39m) \u001b[38;5;129;01mor\u001b[39;00m error_info\u001b[38;5;241m.\u001b[39mget(\n\u001b[1;32m   1020\u001b[0m         \u001b[38;5;124m\"\u001b[39m\u001b[38;5;124mCode\u001b[39m\u001b[38;5;124m\"\u001b[39m\n\u001b[1;32m   1021\u001b[0m     )\n\u001b[1;32m   1022\u001b[0m     error_class \u001b[38;5;241m=\u001b[39m \u001b[38;5;28mself\u001b[39m\u001b[38;5;241m.\u001b[39mexceptions\u001b[38;5;241m.\u001b[39mfrom_code(error_code)\n\u001b[0;32m-> 1023\u001b[0m     \u001b[38;5;28;01mraise\u001b[39;00m error_class(parsed_response, operation_name)\n\u001b[1;32m   1024\u001b[0m \u001b[38;5;28;01melse\u001b[39;00m:\n\u001b[1;32m   1025\u001b[0m     \u001b[38;5;28;01mreturn\u001b[39;00m parsed_response\n",
      "\u001b[0;31mClientError\u001b[0m: An error occurred (AccessDenied) when calling the PutObject operation: User: arn:aws:sts::250260913801:assumed-role/AmazonSageMaker-ExecutionRole-20250718T130675/SageMaker is not authorized to perform: s3:PutObject on resource: \"arn:aws:s3:::sales-leaddd/redshift-exports/data.csv\" because no identity-based policy allows the s3:PutObject action"
     ]
    }
   ],
   "source": [
    "import psycopg2\n",
    "import boto3\n",
    "import pandas as pd\n",
    "from io import StringIO\n",
    "\n",
    "# Redshift Serverless connection info\n",
    "REDSHIFT_HOST = \"wg1.250260913801.ap-south-1.redshift-serverless.amazonaws.com\"\n",
    "REDSHIFT_PORT = 5439\n",
    "REDSHIFT_DB = \"dev\"\n",
    "REDSHIFT_USER = \"admin\"\n",
    "REDSHIFT_PASS = \"Admin-123\"\n",
    "\n",
    "# AWS S3 details\n",
    "S3_BUCKET = \"sales-leaddd\"\n",
    "S3_KEY = \"redshift-exports/data.csv\"\n",
    "AWS_REGION = \"ap-south-1\"\n",
    "\n",
    "# 1. Connect to Redshift Serverless\n",
    "conn = psycopg2.connect(\n",
    "    host=REDSHIFT_HOST,\n",
    "    port=REDSHIFT_PORT,\n",
    "    dbname=REDSHIFT_DB,\n",
    "    user=REDSHIFT_USER,\n",
    "    password=REDSHIFT_PASS,\n",
    "    sslmode='require'  # since SSL is enabled on your serverless instance\n",
    ")\n",
    "print('connected')\n",
    "\n",
    "# 2. Query your data from Redshift Serverless\n",
    "query = \"SELECT 1 AS dummy_col;\"\n",
    "df = pd.read_sql(query, conn)\n",
    "print(df)\n",
    "\n",
    "conn.close()\n",
    "\n",
    "# 3. Convert dataframe to CSV in memory\n",
    "csv_buffer = StringIO()\n",
    "df.to_csv(csv_buffer, index=False)\n",
    "\n",
    "# 4. Upload CSV data to S3 bucket\n",
    "s3_client = boto3.client('s3', region_name=AWS_REGION)\n",
    "s3_client.put_object(Bucket=S3_BUCKET, Key=S3_KEY, Body=csv_buffer.getvalue())\n",
    "\n",
    "print(f\"Data uploaded to s3://{S3_BUCKET}/{S3_KEY}\")\n"
   ]
  },
  {
   "cell_type": "code",
   "execution_count": 3,
   "id": "5affa49a-ad98-4da0-87ed-7265cb72ac4e",
   "metadata": {
    "execution": {
     "iopub.execute_input": "2025-07-18T08:13:18.628362Z",
     "iopub.status.busy": "2025-07-18T08:13:18.627800Z",
     "iopub.status.idle": "2025-07-18T08:13:18.851186Z",
     "shell.execute_reply": "2025-07-18T08:13:18.850526Z",
     "shell.execute_reply.started": "2025-07-18T08:13:18.628325Z"
    }
   },
   "outputs": [
    {
     "name": "stdout",
     "output_type": "stream",
     "text": [
      "Entire table exported to CSV file: leads_dataa.csv\n",
      "                            prospect id  lead number              lead origin  \\\n",
      "0  7927b2df-8bba-4d29-b9a2-b6e0beafe620       660737                      API   \n",
      "1  2a272436-5132-4136-86fa-dcc88c88f482       660728                      API   \n",
      "2  8cc8c611-a219-4f35-ad23-fdfd2656bd8a       660727  Landing Page Submission   \n",
      "3  0cc2df48-7cf4-4e39-9de9-19797f9b38cc       660719  Landing Page Submission   \n",
      "4  3256f628-e534-4826-9d63-4a8b88782852       660681  Landing Page Submission   \n",
      "\n",
      "      lead source do not email do not call  converted  totalvisits  \\\n",
      "0      Olark Chat           No          No          0            0   \n",
      "1  Organic Search           No          No          0            5   \n",
      "2  Direct Traffic           No          No          1            2   \n",
      "3  Direct Traffic           No          No          0            1   \n",
      "4          Google           No          No          1            2   \n",
      "\n",
      "   total time spent on website  page views per visit  ...  \\\n",
      "0                            0                   0.0  ...   \n",
      "1                          674                   2.5  ...   \n",
      "2                         1532                   2.0  ...   \n",
      "3                          305                   1.0  ...   \n",
      "4                         1428                   1.0  ...   \n",
      "\n",
      "  get updates on dm content    lead profile    city  \\\n",
      "0                        No          Select  Select   \n",
      "1                        No          Select  Select   \n",
      "2                        No  Potential Lead  Mumbai   \n",
      "3                        No          Select  Mumbai   \n",
      "4                        No          Select  Mumbai   \n",
      "\n",
      "  asymmetrique activity index asymmetrique profile index  \\\n",
      "0                   02.Medium                  02.Medium   \n",
      "1                   02.Medium                  02.Medium   \n",
      "2                   02.Medium                    01.High   \n",
      "3                   02.Medium                    01.High   \n",
      "4                   02.Medium                    01.High   \n",
      "\n",
      "  asymmetrique activity score asymmetrique profile score  \\\n",
      "0                          15                         15   \n",
      "1                          15                         15   \n",
      "2                          14                         20   \n",
      "3                          13                         17   \n",
      "4                          15                         18   \n",
      "\n",
      "  i agree to pay the amount through cheque  \\\n",
      "0                                       No   \n",
      "1                                       No   \n",
      "2                                       No   \n",
      "3                                       No   \n",
      "4                                       No   \n",
      "\n",
      "  a free copy of mastering the interview last notable activity  \n",
      "0                                     No              Modified  \n",
      "1                                     No          Email Opened  \n",
      "2                                    Yes          Email Opened  \n",
      "3                                     No              Modified  \n",
      "4                                     No              Modified  \n",
      "\n",
      "[5 rows x 37 columns]\n"
     ]
    },
    {
     "name": "stderr",
     "output_type": "stream",
     "text": [
      "/tmp/ipykernel_1231/3470157431.py:26: UserWarning: pandas only supports SQLAlchemy connectable (engine/connection) or database string URI or sqlite3 DBAPI2 connection. Other DBAPI2 objects are not tested. Please consider using SQLAlchemy.\n",
      "  df = pd.read_sql(query, conn)\n"
     ]
    }
   ],
   "source": [
    "import psycopg2\n",
    "import pandas as pd\n",
    "\n",
    "# Redshift connection info\n",
    "REDSHIFT_HOST = \"wg1.250260913801.ap-south-1.redshift-serverless.amazonaws.com\"\n",
    "REDSHIFT_PORT = 5439\n",
    "REDSHIFT_DB = \"dev\"\n",
    "REDSHIFT_USER = \"admin\"\n",
    "REDSHIFT_PASS = \"Admin-123\"\n",
    "\n",
    "# Your target table name\n",
    "TABLE_NAME = \"leads_dataa\"  # <-- Replace this with your actual table name\n",
    "\n",
    "# Connect to Redshift\n",
    "conn = psycopg2.connect(\n",
    "    host=REDSHIFT_HOST,\n",
    "    port=REDSHIFT_PORT,\n",
    "    dbname=REDSHIFT_DB,\n",
    "    user=REDSHIFT_USER,\n",
    "    password=REDSHIFT_PASS,\n",
    "    sslmode='require'\n",
    ")\n",
    "\n",
    "# Read entire table into pandas dataframe\n",
    "query = f\"SELECT * FROM {TABLE_NAME};\"\n",
    "df = pd.read_sql(query, conn)\n",
    "conn.close()\n",
    "\n",
    "# Save dataframe to CSV locally\n",
    "csv_file_path = f\"{TABLE_NAME}.csv\"\n",
    "df.to_csv(csv_file_path, index=False)\n",
    "print(f\"Entire table exported to CSV file: {csv_file_path}\")\n",
    "\n",
    "# (Optional) Preview the data\n",
    "print(df.head())\n"
   ]
  },
  {
   "cell_type": "code",
   "execution_count": null,
   "id": "001fbad7-ed71-4b48-a257-df1a9cd442a7",
   "metadata": {},
   "outputs": [],
   "source": []
  }
 ],
 "metadata": {
  "kernelspec": {
   "display_name": "Python 3 (ipykernel)",
   "language": "python",
   "name": "python3"
  },
  "language_info": {
   "codemirror_mode": {
    "name": "ipython",
    "version": 3
   },
   "file_extension": ".py",
   "mimetype": "text/x-python",
   "name": "python",
   "nbconvert_exporter": "python",
   "pygments_lexer": "ipython3",
   "version": "3.12.9"
  }
 },
 "nbformat": 4,
 "nbformat_minor": 5
}
